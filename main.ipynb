{
 "cells": [
  {
   "cell_type": "code",
   "execution_count": 1,
   "id": "4493c52a-807b-40e0-8b74-4c8e33e08b7c",
   "metadata": {},
   "outputs": [],
   "source": [
    "from BinaryDisplay import BinaryDisplay"
   ]
  },
  {
   "cell_type": "code",
   "execution_count": 2,
   "id": "d5b557e3-fd39-42ae-838a-f9cc5a292756",
   "metadata": {},
   "outputs": [
    {
     "data": {
      "application/vnd.jupyter.widget-view+json": {
       "model_id": "931f7ef5443648d2a37ee0ff582e2dc9",
       "version_major": 2,
       "version_minor": 0
      },
      "text/plain": [
       "Output()"
      ]
     },
     "metadata": {},
     "output_type": "display_data"
    },
    {
     "name": "stdout",
     "output_type": "stream",
     "text": [
      "\n"
     ]
    }
   ],
   "source": [
    "print(BinaryDisplay)"
   ]
  },
  {
   "cell_type": "code",
   "execution_count": null,
   "id": "fbeef76e-3141-421f-81da-afc2827606dd",
   "metadata": {},
   "outputs": [],
   "source": [
    "BinaryDisplay._main_output.clear_output()"
   ]
  },
  {
   "cell_type": "code",
   "execution_count": 1,
   "id": "90612bb8-d93e-4927-8c1c-839e7c17c413",
   "metadata": {},
   "outputs": [],
   "source": [
    "import pandas as pd\n",
    "\n",
    "data = pd.DataFrame({'KIC' : [11560447, 9898401], 'p' : ['0.7', '0.5']})\n",
    "data.to_csv('Test.csv')\n"
   ]
  },
  {
   "cell_type": "code",
   "execution_count": null,
   "id": "ae2f097b-0556-452a-ac84-87d4d85ebff9",
   "metadata": {},
   "outputs": [],
   "source": [
    "Binar"
   ]
  }
 ],
 "metadata": {
  "kernelspec": {
   "display_name": "TESS Environment",
   "language": "python",
   "name": "tess"
  },
  "language_info": {
   "codemirror_mode": {
    "name": "ipython",
    "version": 3
   },
   "file_extension": ".py",
   "mimetype": "text/x-python",
   "name": "python",
   "nbconvert_exporter": "python",
   "pygments_lexer": "ipython3",
   "version": "3.11.12"
  }
 },
 "nbformat": 4,
 "nbformat_minor": 5
}
